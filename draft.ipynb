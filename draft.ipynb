{
 "cells": [
  {
   "cell_type": "code",
   "execution_count": 3,
   "metadata": {},
   "outputs": [],
   "source": [
    "import numpy as np\n",
    "from matplotlib import pyplot as plt\n",
    "import pandas as pd"
   ]
  },
  {
   "cell_type": "code",
   "execution_count": 6,
   "metadata": {},
   "outputs": [],
   "source": [
    "def arma_forecast_naive(filename=\"./data/Coca-Cola_stock_history.csv\", p=2, q=1, n=20):\n",
    "    \"\"\"\n",
    "    Perform ARMA(p,q) on data. Let error terms be drawn from\n",
    "    a standard normal, let c be 0, the phis be 0.5, and the \n",
    "    thetas be 0.1. Predict the next n observations and plot \n",
    "    the original data with the predictions.\n",
    "\n",
    "    Parameters:\n",
    "        file (str): data file\n",
    "        p (int): order of autoregressive model\n",
    "        q (int): order of moving average model\n",
    "        n (int): number of future predictions\n",
    "    \"\"\"\n",
    "    data = np.load(filename)\n",
    "    # Initialize variables Z, k, phi, thetam c, sigma, and epsilon\n",
    "    Z = np.diff(data).tolist()\n",
    "    k = len(Z)-1\n",
    "    phi, theta = .5, .1\n",
    "    c, sigma = 0, 1\n",
    "    eps = list(np.random.normal(0, sigma, k))\n",
    "    # Iterating through k -> k+n to get the forcasted data\n",
    "    for t in range(k, k+n):\n",
    "        # Appending to epsilon\n",
    "        eps.append(np.random.normal(0, sigma))\n",
    "        # Calculating AutoRegressive sum\n",
    "        AR = np.sum([phi*Z[t-i] for i in range(p)])\n",
    "        # Calculating Moving Averages sum\n",
    "        MA = np.sum([theta*eps[t-j] for j in range(q)])\n",
    "        # Combining to form ARMA using equation for Z_t\n",
    "        Zt = c + AR + MA + eps[t]\n",
    "        Z.append(Zt)\n",
    "\n",
    "    # Plotting\n",
    "    plt.plot(np.diff(data), label=\"Old Data\")\n",
    "    plt.plot([x for x in range(k, k+n+1)], Z[k:], label=\"New Data\")\n",
    "    plt.title(\"ARMA(2,1) Naive Forecast\")\n",
    "    plt.legend()\n",
    "    plt.show()\n",
    "\n",
    "    return Z"
   ]
  },
  {
   "cell_type": "code",
   "execution_count": null,
   "metadata": {},
   "outputs": [],
   "source": [
    "predictions = arma_forecast_naive(filename=\"./data/Coca-Cola_stock_history.csv\", p=2, q=1, n=20)"
   ]
  },
  {
   "cell_type": "code",
   "execution_count": null,
   "metadata": {},
   "outputs": [],
   "source": [
    "load_file = np.genfromtxt(\"./data/Coca-Cola_stock_history.csv\", delimiter = ',', dtype = np.str)\n",
    "print(load_file)"
   ]
  }
 ],
 "metadata": {
  "kernelspec": {
   "display_name": "Python 3",
   "language": "python",
   "name": "python3"
  },
  "language_info": {
   "codemirror_mode": {
    "name": "ipython",
    "version": 3
   },
   "file_extension": ".py",
   "mimetype": "text/x-python",
   "name": "python",
   "nbconvert_exporter": "python",
   "pygments_lexer": "ipython3",
   "version": "3.11.5"
  }
 },
 "nbformat": 4,
 "nbformat_minor": 2
}
